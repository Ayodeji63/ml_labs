{
 "cells": [
  {
   "cell_type": "code",
   "execution_count": 2,
   "id": "08ff1331",
   "metadata": {},
   "outputs": [],
   "source": [
    "import numpy as np\n",
    "import time\n"
   ]
  },
  {
   "cell_type": "code",
   "execution_count": 3,
   "id": "65a1cfc3",
   "metadata": {},
   "outputs": [
    {
     "name": "stdout",
     "output_type": "stream",
     "text": [
      "np.zeros(4) :   a = [0. 0. 0. 0.],    a shape = (4,), a data type = float64\n",
      "np.zeros(4,) :  a = [0. 0. 0. 0.],    a shape = (4,), a data type = float64\n",
      "np.random_random_sample(4): a = [0.64635927 0.70530694 0.02966049 0.93742486],    a shape = (4,), a data type = float64\n"
     ]
    }
   ],
   "source": [
    "a = np.zeros(4);            print(f\"np.zeros(4) :   a = {a},    a shape = {a.shape}, a data type = {a.dtype}\")\n",
    "a = np.zeros((4,));         print(f\"np.zeros(4,) :  a = {a},    a shape = {a.shape}, a data type = {a.dtype}\")\n",
    "a = np.random.random_sample(4); print(f\"np.random_random_sample(4): a = {a},    a shape = {a.shape}, a data type = {a.dtype}\")"
   ]
  },
  {
   "cell_type": "code",
   "execution_count": 4,
   "id": "5fabd127",
   "metadata": {},
   "outputs": [
    {
     "name": "stdout",
     "output_type": "stream",
     "text": [
      "np.arrange(4.): a = [0. 1. 2. 3.], a shape = (4,), a data type = float64\n",
      "np.random.rand(4): a = [0.93328352 0.78454544 0.31164284 0.53356624], a shape = (4,), a data type = float64\n"
     ]
    }
   ],
   "source": [
    "a = np.arange(4.);      print(f\"np.arrange(4.): a = {a}, a shape = {a.shape}, a data type = {a.dtype}\")\n",
    "a = np.random.rand(4);  print(f\"np.random.rand(4): a = {a}, a shape = {a.shape}, a data type = {a.dtype}\")"
   ]
  },
  {
   "cell_type": "code",
   "execution_count": 5,
   "id": "b28e48b6",
   "metadata": {},
   "outputs": [
    {
     "name": "stdout",
     "output_type": "stream",
     "text": [
      "np.array([5,4,3,2]):   a = [ 5  4  3 -2],    a shape = (4,),    a data type = int64\n",
      "np.array([5,4,3,2]):   a = [5. 4. 3. 2.],    a shape = (4,),    a data type = float64\n"
     ]
    }
   ],
   "source": [
    "a = np.array([5, 4, 3, -2]); print(f\"np.array([5,4,3,2]):   a = {a},    a shape = {a.shape},    a data type = {a.dtype}\")\n",
    "a = np.array([5., 4,3,2]); print(f\"np.array([5,4,3,2]):   a = {a},    a shape = {a.shape},    a data type = {a.dtype}\")"
   ]
  },
  {
   "cell_type": "markdown",
   "id": "adc5d3f4",
   "metadata": {},
   "source": [
    "# ## Indexing means referring to an element of an array by its position within the array.\n",
    "## Slicing means getting a subset of elements from an array based on their indices\n",
    "\n",
    "## Numpy starts indexing at zero so the 3rd element of a vector \"a\" is [2]"
   ]
  },
  {
   "cell_type": "code",
   "execution_count": 6,
   "id": "4467ff31",
   "metadata": {},
   "outputs": [
    {
     "name": "stdout",
     "output_type": "stream",
     "text": [
      "[0 1 2 3 4 5 6 7 8 9]\n",
      "a[2].shape: () a[2] = 2, Accessing an element returns a scalar\n",
      "a[-1] = 9\n",
      "The error message you'll see is:\n",
      "index 10 is out of bounds for axis 0 with size 10\n"
     ]
    }
   ],
   "source": [
    "a = np.arange(10)\n",
    "print(a)\n",
    "\n",
    "#access an element\n",
    "print(f\"a[2].shape: {a[2].shape} a[2] = {a[2]}, Accessing an element returns a scalar\")\n",
    "\n",
    "# access the last element, negative indexes count from the end\n",
    "print(f\"a[-1] = {a[-1]}\")\n",
    "\n",
    "#indexs must be within the range of the vector or they will produce an error\n",
    "try:\n",
    "    c = a[10]\n",
    "except Exception as e:\n",
    "    print(\"The error message you'll see is:\")\n",
    "    print(e)"
   ]
  },
  {
   "cell_type": "markdown",
   "id": "d7848ebc",
   "metadata": {},
   "source": [
    "# Slicing creates an array of indices using a set of three values (start:stop:step). A subset of values is also valid. Its use is best explained by example:"
   ]
  },
  {
   "cell_type": "code",
   "execution_count": 7,
   "id": "c5730f89",
   "metadata": {},
   "outputs": [
    {
     "name": "stdout",
     "output_type": "stream",
     "text": [
      "a             = [0 1 2 3 4 5 6 7 8 9]\n",
      "a[2:7:1] =  [2 3 4 5 6]\n",
      "a[2:7:2] =  [2 4 6]\n",
      "a[3:]   = [3 4 5 6 7 8 9]\n",
      "a[:3]   = [0 1 2]\n",
      "a[:]    = [0 1 2 3 4 5 6 7 8 9]\n"
     ]
    }
   ],
   "source": [
    "a = np.arange(10)\n",
    "print(f\"a             = {a}\")\n",
    "\n",
    "#access 5 consecutive elements (start:stop:step)\n",
    "c = a[2:7:1];            print(\"a[2:7:1] = \", c)\n",
    "\n",
    "# access 3 elements separated by two\n",
    "c = a[2:7:2];            print(\"a[2:7:2] = \", c)\n",
    "\n",
    "# access all elements index 3 and above\n",
    "c = a[3:];               print(\"a[3:]   =\", c)\n",
    "\n",
    "# access all elements below index 3\n",
    "c = a[:3];               print(\"a[:3]   =\", c)\n",
    "\n",
    "#access all elements\n",
    "c = a[:];                print(\"a[:]    =\", c)"
   ]
  },
  {
   "cell_type": "markdown",
   "id": "065aa9ec",
   "metadata": {},
   "source": [
    "# Single Vector operations\n",
    "There are a number of useful operations that involve operations on a single vector."
   ]
  },
  {
   "cell_type": "code",
   "execution_count": 8,
   "id": "6f3ba562",
   "metadata": {},
   "outputs": [
    {
     "name": "stdout",
     "output_type": "stream",
     "text": [
      "a           :[1 2 3 4]\n",
      "b = -a      : [-1 -2 -3 -4]\n",
      "b = np.su,(a)   : 10\n",
      "b = np.mean(a)  : 2.5\n",
      "b = a**2        : [ 1  4  9 16]\n"
     ]
    }
   ],
   "source": [
    "a = np.array([1,2,3,4])\n",
    "print(f\"a           :{a}\")\n",
    "# negative elements of a\n",
    "b = -a\n",
    "print(f\"b = -a      : {b}\")\n",
    "\n",
    "# sum all elements of a, returns a scalar\n",
    "b = np.sum(a)\n",
    "print(f\"b = np.su,(a)   : {b}\")\n",
    "\n",
    "b = np.mean(a)\n",
    "print(f\"b = np.mean(a)  : {b}\")\n",
    "\n",
    "b = a**2\n",
    "print(f\"b = a**2        : {b}\")"
   ]
  },
  {
   "cell_type": "code",
   "execution_count": 9,
   "id": "ce182974",
   "metadata": {},
   "outputs": [],
   "source": [
    "# Most of the Numnpy arithmetic, logical and comparison operations apply to vectors as well.\n",
    "# These operators work on an element-by-element basis. For example\n",
    "\n",
    "                # ci = ai + bi"
   ]
  },
  {
   "cell_type": "code",
   "execution_count": 10,
   "id": "1a6c3928",
   "metadata": {},
   "outputs": [
    {
     "name": "stdout",
     "output_type": "stream",
     "text": [
      "Binary operators work element wise: [0 0 6 8]\n"
     ]
    }
   ],
   "source": [
    "a = np.array([1, 2, 3, 4])\n",
    "b = np.array([-1, -2, 3, 4])\n",
    "print(f\"Binary operators work element wise: {a + b}\")"
   ]
  },
  {
   "cell_type": "code",
   "execution_count": 11,
   "id": "9657910f",
   "metadata": {},
   "outputs": [
    {
     "name": "stdout",
     "output_type": "stream",
     "text": [
      "The error message you'll see is:\n",
      "operands could not be broadcast together with shapes (4,) (2,) \n"
     ]
    }
   ],
   "source": [
    "# try a mismatched vector operation\n",
    "c = np.array([1, 2])\n",
    "try:\n",
    "    d = a + c\n",
    "except Exception as e:\n",
    "    print(\"The error message you'll see is:\")\n",
    "    print(e)"
   ]
  },
  {
   "cell_type": "code",
   "execution_count": 12,
   "id": "041884e3",
   "metadata": {},
   "outputs": [
    {
     "name": "stdout",
     "output_type": "stream",
     "text": [
      "b = 5 * a : [ 5 10 15 20]\n"
     ]
    }
   ],
   "source": [
    "a = np.array([1, 2, 3, 4])\n",
    "\n",
    "# multiply a by a scalar\n",
    "b = 5 * a\n",
    "print(f\"b = 5 * a : {b}\")"
   ]
  },
  {
   "cell_type": "code",
   "execution_count": 13,
   "id": "b15ce793",
   "metadata": {},
   "outputs": [],
   "source": [
    "# Vector Vector dot product\n",
    "\n",
    "def my_dot(a, b):\n",
    "    \"\"\"\n",
    "    Compute the dot product of two vectors\n",
    "    Args:\n",
    "        a (ndarray (n,)): input vector\n",
    "        b (ndarray (n,)): input vector with same dimension as a \n",
    "    \n",
    "    Returns:\n",
    "        x (scalar):\n",
    "    \"\"\"\n",
    "    x = 0\n",
    "    for i in range(a.shape[0]):\n",
    "        x = x + a[i] * b[i]\n",
    "    return x"
   ]
  },
  {
   "cell_type": "code",
   "execution_count": 14,
   "id": "ebd351e9",
   "metadata": {},
   "outputs": [
    {
     "name": "stdout",
     "output_type": "stream",
     "text": [
      "my_dot(a, b) = 24\n"
     ]
    }
   ],
   "source": [
    "# test 1 - D\n",
    "a = np.array([1, 2, 3, 4])\n",
    "b = np.array([-1, 4, 3, 2])\n",
    "print(f\"my_dot(a, b) = {my_dot(a, b)}\")"
   ]
  },
  {
   "cell_type": "code",
   "execution_count": 15,
   "id": "df123961",
   "metadata": {},
   "outputs": [
    {
     "name": "stdout",
     "output_type": "stream",
     "text": [
      "NumPy 1-D np.dot(a, b) = 24, np.dot(a, b).shape = () \n",
      "NumPy 1-D np.dot(b, a) = 24, np.dot(a, b).shape = () \n"
     ]
    }
   ],
   "source": [
    "# test 1 -D\n",
    "a = np.array([1, 2, 3, 4])\n",
    "b = np.array([-1, 4, 3, 2])\n",
    "c = np.dot(a, b)\n",
    "print(f\"NumPy 1-D np.dot(a, b) = {c}, np.dot(a, b).shape = {c.shape} \") \n",
    "c = np.dot(b, a)\n",
    "print(f\"NumPy 1-D np.dot(b, a) = {c}, np.dot(a, b).shape = {c.shape} \")"
   ]
  },
  {
   "cell_type": "code",
   "execution_count": 16,
   "id": "be7be75c",
   "metadata": {},
   "outputs": [
    {
     "name": "stdout",
     "output_type": "stream",
     "text": [
      "NumPy 1-D np.dot(a, b) = 24, np.dot(a, b).shape = () \n",
      "NumPy 1-D np.dot(b, a) = 24, np.dot(a, b).shape = () \n"
     ]
    }
   ],
   "source": [
    "# test 1-D\n",
    "a = np.array([1, 2, 3, 4])\n",
    "b = np.array([-1, 4, 3, 2])\n",
    "c = np.dot(a, b)\n",
    "print(f\"NumPy 1-D np.dot(a, b) = {c}, np.dot(a, b).shape = {c.shape} \") \n",
    "c = np.dot(b, a)\n",
    "print(f\"NumPy 1-D np.dot(b, a) = {c}, np.dot(a, b).shape = {c.shape} \")\n"
   ]
  },
  {
   "cell_type": "code",
   "execution_count": 17,
   "id": "2370d8e2",
   "metadata": {},
   "outputs": [
    {
     "name": "stdout",
     "output_type": "stream",
     "text": [
      "np.dot(a, b) =  2501072.5817\n",
      "Vectorized version duration: 14.7090 ms \n",
      "my_dot(a, b) =  2501072.5817\n",
      "loop version duration: 4478.7953 ms \n"
     ]
    }
   ],
   "source": [
    "np.random.seed(1)\n",
    "a = np.random.rand(10000000)  # very large arrays\n",
    "b = np.random.rand(10000000)\n",
    "\n",
    "tic = time.time()  # capture start time\n",
    "c = np.dot(a, b)\n",
    "toc = time.time()  # capture end time\n",
    "\n",
    "print(f\"np.dot(a, b) =  {c:.4f}\")\n",
    "print(f\"Vectorized version duration: {1000*(toc-tic):.4f} ms \")\n",
    "\n",
    "tic = time.time()  # capture start time\n",
    "c = my_dot(a,b)\n",
    "toc = time.time()  # capture end time\n",
    "\n",
    "print(f\"my_dot(a, b) =  {c:.4f}\")\n",
    "print(f\"loop version duration: {1000*(toc-tic):.4f} ms \")\n",
    "\n",
    "del(a);del(b)  #remove these big arrays from memory"
   ]
  },
  {
   "cell_type": "code",
   "execution_count": 18,
   "id": "72c2d594",
   "metadata": {},
   "outputs": [
    {
     "name": "stdout",
     "output_type": "stream",
     "text": [
      "X[1] has shape (1,)\n",
      "w has shape (1,)\n",
      "c has shape ()\n"
     ]
    }
   ],
   "source": [
    "# show common Course 1 example\n",
    "X = np.array([[1],[2],[3],[4]])\n",
    "w = np.array([2])\n",
    "c = np.dot(X[1], w)\n",
    "\n",
    "print(f\"X[1] has shape {X[1].shape}\")\n",
    "print(f\"w has shape {w.shape}\")\n",
    "print(f\"c has shape {c.shape}\")"
   ]
  },
  {
   "cell_type": "code",
   "execution_count": 21,
   "id": "ffefb361",
   "metadata": {},
   "outputs": [
    {
     "name": "stdout",
     "output_type": "stream",
     "text": [
      "a shape = (1, 5), a = [[0. 0. 0. 0. 0.]]\n",
      "a shape = (2, 1), a = [[0.]\n",
      " [0.]]\n",
      "a shape = (1, 1), a = [[0.44236513]]\n"
     ]
    }
   ],
   "source": [
    "a = np.zeros((1, 5))\n",
    "print(f\"a shape = {a.shape}, a = {a}\")\n",
    "\n",
    "a = np.zeros((2, 1))\n",
    "print(f\"a shape = {a.shape}, a = {a}\")\n",
    "\n",
    "a = np.random.random_sample((1, 1))\n",
    "\n",
    "print(f\"a shape = {a.shape}, a = {a}\")"
   ]
  },
  {
   "cell_type": "code",
   "execution_count": 23,
   "id": "207969ba",
   "metadata": {},
   "outputs": [
    {
     "name": "stdout",
     "output_type": "stream",
     "text": [
      " a shape = (3, 1), np.array: a = [[5]\n",
      " [4]\n",
      " [3]]\n",
      "a shape = (3, 1), np.array: a ] [[5]\n",
      " [4]\n",
      " [3]]\n"
     ]
    }
   ],
   "source": [
    "a = np.array([[5], [4], [3]]);\n",
    "print(f\" a shape = {a.shape}, np.array: a = {a}\")\n",
    "a = np.array([[5],  # One can also\n",
    "              [4],  # seperate values\n",
    "              [3]]); # into seperate rows\n",
    "print(f\"a shape = {a.shape}, np.array: a ] {a}\")"
   ]
  },
  {
   "cell_type": "code",
   "execution_count": 35,
   "id": "040e7796",
   "metadata": {},
   "outputs": [
    {
     "name": "stdout",
     "output_type": "stream",
     "text": [
      "a.shape: (3, 2), \n",
      "a= [[0 1]\n",
      " [2 3]\n",
      " [4 5]]\n",
      "\n",
      "a[2,0].shape:     (), a[2,0] = 4, type(ap[2, 0]) = <class 'numpy.int64'> Accessing an element returns a scalar \n",
      "\n",
      "a[2].shape: (2,), a[2]   = [4 5], type(a[2]) = <class 'numpy.ndarray'>\n"
     ]
    }
   ],
   "source": [
    "a = np.arange(6).reshape(-1, 2)\n",
    "\n",
    "print(f\"a.shape: {a.shape}, \\na= {a}\")\n",
    "\n",
    "#access an element\n",
    "print(f\"\\na[2,0].shape:     {a[2, 0].shape}, a[2,0] = {a[2, 0]}, type(ap[2, 0]) = {type(a[2, 0])} Accessing an element returns a scalar \\n\")\n",
    "\n",
    "#access a row\n",
    "print(f\"a[2].shape: {a[2].shape}, a[2]   = {a[2]}, type(a[2]) = {type(a[2])}\")\n",
    "\n"
   ]
  },
  {
   "cell_type": "code",
   "execution_count": null,
   "id": "7b0eb041",
   "metadata": {},
   "outputs": [],
   "source": []
  }
 ],
 "metadata": {
  "kernelspec": {
   "display_name": "Python 3 (ipykernel)",
   "language": "python",
   "name": "python3"
  },
  "language_info": {
   "codemirror_mode": {
    "name": "ipython",
    "version": 3
   },
   "file_extension": ".py",
   "mimetype": "text/x-python",
   "name": "python",
   "nbconvert_exporter": "python",
   "pygments_lexer": "ipython3",
   "version": "3.11.13"
  }
 },
 "nbformat": 4,
 "nbformat_minor": 5
}
