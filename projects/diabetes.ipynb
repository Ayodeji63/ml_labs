{
 "cells": [
  {
   "cell_type": "code",
   "execution_count": 130,
   "id": "5bacce6d",
   "metadata": {},
   "outputs": [],
   "source": [
    "import pandas as pd\n",
    "import os\n",
    "import numpy as np\n",
    "import copy, math\n",
    "%matplotlib widget\n",
    "import matplotlib.pyplot as plt\n",
    "# from lab_utils_common import plot_data, sigmoid, dlc\n",
    "plt.style.use('./deeplearning.mplstyle')\n",
    "from sklearn.decomposition import PCA\n",
    "from plt_quad_logistic import plt_quad_logistic, plt_prob\n",
    "\n"
   ]
  },
  {
   "cell_type": "code",
   "execution_count": 104,
   "id": "6dae49fc",
   "metadata": {},
   "outputs": [
    {
     "name": "stdout",
     "output_type": "stream",
     "text": [
      "[[148.   33.6]\n",
      " [ 85.   26.6]\n",
      " [183.   23.3]\n",
      " ...\n",
      " [121.   26.2]\n",
      " [126.   30.1]\n",
      " [ 93.   30.4]]\n"
     ]
    }
   ],
   "source": [
    "pca = PCA(n_components=2)\n",
    "DIABETIES_PATH = os.path.join(\"datasets\", \"diabetes\")\n",
    "def load_diabeties_data(housing_path=DIABETIES_PATH):\n",
    "    csv_path = os.path.join(housing_path, \"diabetes.csv\")\n",
    "    return pd.read_csv(csv_path)\n",
    "\n",
    "df = pd.read_csv(\"datasets/diabetes/diabetes.csv\")\n",
    "# diabetes = load_diabeties_data()\n",
    "# diabetes.head()\n",
    "# diabetes.info()\n",
    "\n",
    "X_train = df[[\"Glucose\", \"BMI\"]].values\n",
    "y_train = df[\"Outcome\"].values.reshape(-1)\n",
    "cols_with_zero = [\"Glucose\", \"BMI\"]\n",
    "print(X_train)\n",
    "df[cols_with_zero] = df[cols_with_zero].replace(0, np.nan)\n",
    "df.fillna(df.median(), inplace=True)"
   ]
  },
  {
   "cell_type": "code",
   "execution_count": 105,
   "id": "7efd4f96",
   "metadata": {},
   "outputs": [
    {
     "name": "stdout",
     "output_type": "stream",
     "text": [
      "[[ 0.84832379  0.20401277]\n",
      " [-1.12339636 -0.68442195]\n",
      " [ 1.94372388 -1.10325546]\n",
      " ...\n",
      " [ 0.00330087 -0.73518964]\n",
      " [ 0.1597866  -0.24020459]\n",
      " [-0.8730192  -0.20212881]]\n"
     ]
    }
   ],
   "source": [
    "## Z-score normalizing\n",
    "mu = np.mean(X_train, axis=0)\n",
    "sigma = np.std(X_train, axis=0)\n",
    "X_mean = (X_train - mu)\n",
    "X_norm = X_mean / sigma\n",
    "print(X_norm)"
   ]
  },
  {
   "cell_type": "code",
   "execution_count": 106,
   "id": "79d98d28",
   "metadata": {},
   "outputs": [],
   "source": [
    "dlc = dict(dlblue = '#0096ff', dlorange = '#FF9300', dldarkred='#C00000', dlmagenta='#FF40FF', dlpurple='#7030A0')\n",
    "dlblue = '#0096ff'; dlorange = '#FF9300'; dldarkred='#C00000'; dlmagenta='#FF40FF'; dlpurple='#7030A0'\n",
    "dlcolors = [dlblue, dlorange, dldarkred, dlmagenta, dlpurple]\n",
    "\n",
    "def plot_data(X, y, ax, pos_label=\"y=1\", neg_label=\"y=0\", s=80, loc='best' ):\n",
    "    \"\"\" plots logistic data with two axis \"\"\"\n",
    "    # Find Indices of Positive and Negative Examples\n",
    "    pos = y == 1\n",
    "    neg = y == 0\n",
    "    pos = pos.reshape(-1,)  #work with 1D or 1D y vectors\n",
    "    neg = neg.reshape(-1,)\n",
    "\n",
    "    # Plot examples\n",
    "    ax.scatter(X[pos, 0], X[pos, 1], marker='x', s=s, c = 'red', label=pos_label)\n",
    "    ax.scatter(X[neg, 0], X[neg, 1], marker='o', s=s, label=neg_label, facecolors='none', edgecolors=dlblue, lw=3)\n",
    "    ax.legend(loc=loc)\n",
    "\n",
    "    ax.figure.canvas.toolbar_visible = False\n",
    "    ax.figure.canvas.header_visible = False\n",
    "    ax.figure.canvas.footer_visible = False"
   ]
  },
  {
   "cell_type": "code",
   "execution_count": 122,
   "id": "29a256e8",
   "metadata": {},
   "outputs": [
    {
     "name": "stdout",
     "output_type": "stream",
     "text": [
      "[[148.   33.6]\n",
      " [ 85.   26.6]\n",
      " [183.   23.3]\n",
      " ...\n",
      " [121.   26.2]\n",
      " [126.   30.1]\n",
      " [ 93.   30.4]]\n"
     ]
    }
   ],
   "source": [
    "X_pca = pca.fit_transform(X_train)\n",
    "print(X_train) \n",
    "fig, ax = plt.subplots(1, 1, figsize=(6,6))\n",
    "plot_data(X_norm, y_train, ax)\n",
    "plt.close(fig)\n",
    "\n"
   ]
  },
  {
   "cell_type": "code",
   "execution_count": 123,
   "id": "f30a1af9",
   "metadata": {},
   "outputs": [],
   "source": [
    "## Compute Logistic cost reg\n",
    "def compute_cost_logistic(X, y, w, b, lambda_ = 1, reg=False):\n",
    "    \"\"\"\n",
    "    Compues the cost over all examples\n",
    "    Args:\n",
    "      X (ndarray (m,n): Data, m examples with n features\n",
    "      y (ndarray (m,)): target values\n",
    "      w (ndarray (n,)): model parameters  \n",
    "      b (scalar)      : model parameter\n",
    "      lambda_ (scalar): Controls amount of regularization\n",
    "    Returns:\n",
    "      total_cost (scalar):  cost \n",
    "    \"\"\"\n",
    "    \n",
    "    m, n = X.shape\n",
    "    cost = 0.\n",
    "    for i in range(m):\n",
    "        z_i = np.dot(X[i], w) + b\n",
    "        f_wb_i = sigmoid(z_i)\n",
    "        eps = 1e-15\n",
    "        cost += -y[i]*np.log(f_wb_i + eps) - (1-y[i])*np.log(1 - f_wb_i + eps)\n",
    "\n",
    "    \n",
    "    cost = cost / m\n",
    "    \n",
    "    reg_cost = 0 \n",
    "    if reg == True:\n",
    "        \n",
    "        for j in range(n):\n",
    "            reg_cost += (w[j]**2)\n",
    "        reg_cost = (lambda_/(2*m)) * reg_cost\n",
    "    \n",
    "    total_cost = cost + reg_cost\n",
    "    \n",
    "    return total_cost\n",
    "        \n",
    "    "
   ]
  },
  {
   "cell_type": "code",
   "execution_count": 124,
   "id": "bcf57b2d",
   "metadata": {},
   "outputs": [],
   "source": [
    "def sigmoid(z):\n",
    "    \"\"\"\n",
    "    Args:\n",
    "        z (scalar)  : The model parameter\n",
    "    \n",
    "    Returns\n",
    "        g(z) (scalar)   : The sigmoid function value\n",
    "    \"\"\"\n",
    "    z = np.clip(z, -500, 500)       # prevent against overflow\n",
    "    g_z = 1.0 / (1.0 + np.exp(-z))\n",
    "    \n",
    "    return g_z"
   ]
  },
  {
   "cell_type": "code",
   "execution_count": 125,
   "id": "83663fb1",
   "metadata": {},
   "outputs": [],
   "source": [
    "\n",
    "def compute_gradient_descent_logistic(X, y, w, b):\n",
    "    \"\"\"\n",
    "    Args:\n",
    "        X (ndarray (m,n))   :   Data, m examples with n features\n",
    "        y (ndarray (m,))    :   Target Values\n",
    "        w (ndarray (n,))    :   model parameters\n",
    "        b (scalar)          :   model parameter\n",
    "    Returns:\n",
    "        dj_dw (ndarray)     :   The gradient of the cost w.r.t the parameters w\n",
    "        dj_db (scalar)      :   The gradient of the cost w.r.t the parameter b\n",
    "    \"\"\"\n",
    "    \n",
    "    m, n = X.shape\n",
    "    dj_dw = np.zeros(n)\n",
    "    dj_db = 0.\n",
    "    \n",
    "    for i in range(m):\n",
    "        z_i = np.dot(X[i], w) + b\n",
    "        fw_b_i = sigmoid(z_i)\n",
    "        for j in range(n):\n",
    "            dj_dw[j] = dj_dw[j] + (fw_b_i - y[i]) * X[i, j]\n",
    "        dj_db += (fw_b_i - y[i])\n",
    "    \n",
    "    dj_dw = dj_dw / m\n",
    "    dj_db = dj_db / m\n",
    "    \n",
    "    return dj_db, dj_dw\n",
    "       "
   ]
  },
  {
   "cell_type": "code",
   "execution_count": 126,
   "id": "b16437b8",
   "metadata": {},
   "outputs": [
    {
     "name": "stdout",
     "output_type": "stream",
     "text": [
      "dj_db: 0.6510416666666666\n",
      "dj_dw: [71.6015625, 19.729296874999974]\n"
     ]
    }
   ],
   "source": [
    "X_tmp = np.array([[0.5, 1.5], [1,1], [1.5, 0.5], [3, 0.5], [2, 2], [1, 2.5]])\n",
    "y_tmp = np.array([0, 0, 0, 1, 1, 1])\n",
    "w_tmp = np.array([2.,3.])\n",
    "b_tmp = 1.\n",
    "dj_db_tmp, dj_dw_tmp = compute_gradient_descent_logistic(X_train, y_train, w_tmp, b_tmp)\n",
    "print(f\"dj_db: {dj_db_tmp}\")\n",
    "print(f\"dj_dw: {dj_dw_tmp.tolist()}\")"
   ]
  },
  {
   "cell_type": "code",
   "execution_count": 127,
   "id": "615604dd",
   "metadata": {},
   "outputs": [],
   "source": [
    "def gradient_descent(X, y, w_in, b_in, alpha, num_iters):\n",
    "    \"\"\"\n",
    "    Performs batch gradient descent\n",
    "    \n",
    "    Args:\n",
    "        X (ndarray (m, n)   :   Data, m examples with n features\n",
    "        y (ndarray (m,))    :   target values\n",
    "        w_in (ndarray (n,)) :   Initial values of model parameters\n",
    "        b_in (scalar)       :   Initial values of model parameter\n",
    "        alpha (float)       :   Learning rate\n",
    "        num_iters (scalar)  :   number of iterations to run gradient descent\n",
    "    \n",
    "    Returns:\n",
    "        w (ndarray (n,))    :   Updated values of parameters\n",
    "        b (scalar)          :   Updated value of parameter\n",
    "    \"\"\"\n",
    "    \n",
    "    J_history = []\n",
    "    w = copy.deepcopy(w_in)\n",
    "    b = b_in\n",
    "    \n",
    "    for i in range(num_iters):\n",
    "        # Calculate the gradient and update the paramerers\n",
    "        dj_db, dj_dw = compute_gradient_descent_logistic(X, y, w, b)\n",
    "        \n",
    "        # Update Parameters using w, b, alpha and gradient\n",
    "        w = w - alpha * dj_dw\n",
    "        b = b - alpha * dj_db\n",
    "        \n",
    "        # Save cost J at each iteration\n",
    "        if i < 100000:\n",
    "            J_history.append(compute_cost_logistic(X, y, w, b))\n",
    "            # print cost every intervals 10 times or as many iterations if < 10\n",
    "            if i% math.ceil(num_iters / 10) == 0:\n",
    "                print(f\"iteration {i:4d}: Cost {J_history[-1]}\")\n",
    "    \n",
    "    return w, b, J_history"
   ]
  },
  {
   "cell_type": "code",
   "execution_count": 128,
   "id": "aa501156",
   "metadata": {},
   "outputs": [
    {
     "name": "stdout",
     "output_type": "stream",
     "text": [
      "iteration    0: Cost 12.001574125347766\n",
      "iteration 1000: Cost 12.052593846140786\n",
      "iteration 2000: Cost 22.44121018367264\n",
      "iteration 3000: Cost 12.052593846140786\n",
      "iteration 4000: Cost 11.353707309993533\n",
      "iteration 5000: Cost 12.052593846140786\n",
      "iteration 6000: Cost 11.22958113583303\n",
      "iteration 7000: Cost 12.052593846140786\n",
      "iteration 8000: Cost 12.052593846140786\n",
      "iteration 9000: Cost 11.336770584648532\n",
      "\n",
      "updated parameters: w:[ 2.92244611 -6.5672701 ], b:-44.489564699928536\n"
     ]
    }
   ],
   "source": [
    "w_tmp = np.zeros_like(X_train[0])\n",
    "b_tmp = 0.\n",
    "alpha = 0.1\n",
    "iters = 10000\n",
    "\n",
    "w_out, b_out, _ = gradient_descent(X_train, y_train, w_tmp, b_tmp, alpha, iters)\n",
    "print(f\"\\nupdated parameters: w:{w_out}, b:{b_out}\")"
   ]
  },
  {
   "cell_type": "code",
   "execution_count": 131,
   "id": "efc66200",
   "metadata": {},
   "outputs": [
    {
     "data": {
      "application/vnd.jupyter.widget-view+json": {
       "model_id": "9c842ac7b6234445a41b01486515531e",
       "version_major": 2,
       "version_minor": 0
      },
      "image/png": "[encoded data removed]",
      "text/html": [
       "\n",
       "            <div style=\"display: inline-block;\">\n",
       "                <div class=\"jupyter-widgets widget-label\" style=\"text-align: center;\">\n",
       "                    Figure\n",
       "                </div>\n",
       "                <img src='data:image/png;base64,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' width=500.0/>\n",
       "            </div>\n",
       "        "
      ],
      "text/plain": [
       "Canvas(footer_visible=False, header_visible=False, toolbar=Toolbar(toolitems=[('Home', 'Reset original view', …"
      ]
     },
     "metadata": {},
     "output_type": "display_data"
    }
   ],
   "source": [
    "fig,ax = plt.subplots(1,1, figsize=(5,4))\n",
    "# plot the probability\n",
    "plt_prob(ax, w_out, b_out)\n",
    "\n",
    "# Plot the original data\n",
    "ax.set_ylabel(r'$x_1$')\n",
    "ax.set_xlabel(r'$x_0$')\n",
    "ax.axis([0, 4, 0, 3.5])\n",
    "plot_data(X_train, y_train, ax)\n",
    "\n",
    "# Plot the decision boundary\n",
    "x0 = -b_out/w_out[0]\n",
    "x1 = -b_out/w_out[1]\n",
    "ax.plot([0,x0], [x1,0], c=dlc[\"dlmagenta\"], lw=1)\n",
    "plt.show()"
   ]
  },
  {
   "cell_type": "code",
   "execution_count": null,
   "id": "6cbef7df",
   "metadata": {},
   "outputs": [],
   "source": []
  }
 ],
 "metadata": {
  "kernelspec": {
   "display_name": "Python 3 (ipykernel)",
   "language": "python",
   "name": "python3"
  }
 },
 "nbformat": 4,
 "nbformat_minor": 5
}
